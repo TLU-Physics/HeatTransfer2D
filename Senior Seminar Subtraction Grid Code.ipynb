{
 "cells": [
  {
   "cell_type": "markdown",
   "metadata": {},
   "source": [
    "# Code of a subtraction matrix that is used to calibrate the 2-D thermal diffusion plate."
   ]
  },
  {
   "cell_type": "code",
   "execution_count": 6,
   "metadata": {
    "collapsed": false
   },
   "outputs": [
    {
     "data": {
      "text/plain": [
       "array([[-0.12, -0.06, -0.12, -0.06, -0.12, -0.12, -0.18, -0.18, -0.12,\n",
       "        -0.37],\n",
       "       [-0.12, -0.06, -0.06, -0.12, -0.12, -0.12, -0.06, -0.12, -0.18,\n",
       "        -0.25],\n",
       "       [-0.06, -0.06, -0.06, -0.31,  0.  , -0.12, -0.12, -0.18, -0.06,\n",
       "        -0.12],\n",
       "       [-0.06, -0.06, -0.12, -0.06, -0.12, -0.06, -0.06, -0.18, -0.06,\n",
       "        -0.18],\n",
       "       [-0.06,  0.  , -0.12, -0.12, -0.06, -0.06,  0.  , -0.06, -0.06,\n",
       "        -0.18],\n",
       "       [-0.06,  0.  ,  0.  ,  0.  ,  0.  , -0.06, -0.12, -0.12, -0.06,\n",
       "        -0.06],\n",
       "       [ 0.  ,  0.07, -0.06, -0.06,  0.  , -0.06,  0.07, -0.06, -0.06,\n",
       "        -0.06],\n",
       "       [ 0.  , -0.06,  0.  ,  0.13,  0.  ,  0.  ,  0.  , -0.06, -0.18,\n",
       "        -0.18],\n",
       "       [-0.12,  0.  ,  0.  , -0.06,  0.07, -0.06, -0.06,  0.  , -0.25,\n",
       "        -0.12],\n",
       "       [ 0.07,  0.  ,  0.  ,  0.  , -0.06,  0.  ,  0.  , -0.06, -0.12,\n",
       "        -0.12]])"
      ]
     },
     "execution_count": 6,
     "metadata": {},
     "output_type": "execute_result"
    }
   ],
   "source": [
    "###Code to find the grid of temperatures at one point in time. Will use to try to calibrate the sensors.\n",
    "\n",
    "import serial, sys\n",
    "from pylab import *\n",
    "\n",
    "try:\n",
    "    #port = '/dev/ttyUSB1'\n",
    "    port = '/dev/cu.usbmodem1411'\n",
    "    #port = sys.argv[3]\n",
    "    ser = serial.Serial(port, 57600, timeout=2)\n",
    "except:\n",
    "    print( \"Could not open port %s, exiting.\") % port\n",
    "    exit(0)\n",
    "        \n",
    "# set up matrix for temperature data\n",
    "grid = zeros([10,10])\n",
    "subtractiongrid = zeros([10,10])\n",
    "newgrid = zeros([10,10])\n",
    "\n",
    "offsettemp = 22.69 #Temperature of the plate at equilibrium. Will likely need to calibrate everytime the experiment is conducted.\n",
    "\n",
    "# read and discard a line to help get things in sync.\n",
    "junk = ser.readline()\n",
    "\n",
    "# Read a line of temperature data from the Arduino\n",
    "line = ser.readline()\n",
    "ser.flushInput()\n",
    "# split the line into a list of floating-point values\n",
    "temperatures = [float(T) for T in line.split()]\n",
    "\n",
    "# sort the list of temperatures into a matrix for plotting\n",
    "for j in range(10):\n",
    "    for k in range(10):\n",
    "        grid[j,k] = temperatures[j*10+k]\n",
    "        subtractiongrid[j,k] = offsettemp - grid[j,k]\n",
    "        newgrid[j,k] = grid[j,k] + subtractiongrid[j,k]\n",
    "subtractiongrid\n"
   ]
  },
  {
   "cell_type": "code",
   "execution_count": 7,
   "metadata": {
    "collapsed": true
   },
   "outputs": [],
   "source": [
    "\"\"\"This function saves the 2-D subtraction grid as an (input name).csv file. This grid is opened up in the experimental code.\n",
    "        \n",
    "    Args:\n",
    "        subtractiongrid1 (array): grid to be saved\n",
    "        \n",
    "    Returns:\n",
    "        Saves the array to the inputted file.\n",
    "    \"\"\"\n",
    "\n",
    "\n",
    "def csvform(subtractiongrid1):\n",
    "    filename = input('Name of File? ') #needs to be csv, ie. filename.csv\n",
    "    header_row_text = 'Subtraction Grid'\n",
    "    comment_text = ''\n",
    "    \n",
    "    data = np.array([subtractiongrid1]).T\n",
    "    np.savetxt(filename, data, delimiter = ' ')"
   ]
  },
  {
   "cell_type": "code",
   "execution_count": 9,
   "metadata": {
    "collapsed": false
   },
   "outputs": [
    {
     "name": "stdout",
     "output_type": "stream",
     "text": [
      "Name of File? Trial1-subtractgrid.csv\n"
     ]
    }
   ],
   "source": [
    "csvfile = csvform(subtractiongrid)"
   ]
  },
  {
   "cell_type": "code",
   "execution_count": null,
   "metadata": {
    "collapsed": true
   },
   "outputs": [],
   "source": []
  }
 ],
 "metadata": {
  "kernelspec": {
   "display_name": "Python 3",
   "language": "python",
   "name": "python3"
  },
  "language_info": {
   "codemirror_mode": {
    "name": "ipython",
    "version": 3
   },
   "file_extension": ".py",
   "mimetype": "text/x-python",
   "name": "python",
   "nbconvert_exporter": "python",
   "pygments_lexer": "ipython3",
   "version": "3.6.0"
  }
 },
 "nbformat": 4,
 "nbformat_minor": 2
}
