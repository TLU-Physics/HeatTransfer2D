{
 "cells": [
  {
   "cell_type": "code",
   "execution_count": 2,
   "metadata": {
    "collapsed": false
   },
   "outputs": [
    {
     "name": "stdout",
     "output_type": "stream",
     "text": [
      "Populating the interactive namespace from numpy and matplotlib\n"
     ]
    }
   ],
   "source": [
    "%pylab inline\n",
    "import scipy.linalg as linalg\n",
    "from scipy.interpolate import RectBivariateSpline\n",
    "#from scipy.interpolate import interp2d\n",
    "\n",
    "#from mpl_toolkits.mplot3d import Axes3D"
   ]
  },
  {
   "cell_type": "code",
   "execution_count": 4,
   "metadata": {
    "collapsed": true
   },
   "outputs": [],
   "source": [
    "Tbound = 0\n",
    "Lx = .30 # m\n",
    "Ly = .30 # m\n",
    "# Z length\n",
    "#Nx = 30 #Lx / Delta\n",
    "#Ny = 30 #Ly / Delta\n",
    "\n",
    "Nx = 120 #Lx / Delta\n",
    "Ny = 120 #Ly / Delta\n",
    "\n",
    "Delta = Lx / Nx #m\n",
    "#Number of indices in Z direction of matrix"
   ]
  },
  {
   "cell_type": "code",
   "execution_count": 5,
   "metadata": {
    "collapsed": false
   },
   "outputs": [
    {
     "data": {
      "text/plain": [
       "0.0025"
      ]
     },
     "execution_count": 5,
     "metadata": {},
     "output_type": "execute_result"
    }
   ],
   "source": [
    "Delta"
   ]
  },
  {
   "cell_type": "code",
   "execution_count": 6,
   "metadata": {
    "collapsed": false
   },
   "outputs": [],
   "source": [
    "T0 = 100\n",
    "\n",
    "#Nx1 = 10\n",
    "#Nx2 = 20\n",
    "Nplates = 1001\n",
    "#L = .2 #length of bar in meters\n",
    "#dx1 = L / Nx1 #=.02   #dx and dy should be the same\n",
    "#dx2 = L / Nx2 #=.01\n",
    "\n",
    "#Tendbound = 0\n",
    "#Tmidbound = 100\n",
    "k = 237 #thermal conductivity of Aluminum. W/m*K\n",
    "c = 898.7 #specific heat of aluminum J/Kg*K\n",
    "row = 2700 #density of aluminum Kg/m^3\n",
    "#dt = .25\n",
    "\n",
    "dt = .01\n",
    "\n",
    "n1 = (k * dt / (row * c * Delta**2)) #eta for stable solution, eta has to be <.5 (or .25 due to 2-D), n1=.244\n",
    "#n2 = (k * dt / (row * c * dx2 **2))#eta for unstable solution, eta has to be >.5, n2=.977\n",
    "#n1=.4\n",
    "\n",
    "#xvect1 = arange(0, L, dx1)\n",
    "#xvect2 = arange(0, L, dx2)\n",
    "tvect = zeros(Nplates, float)\n",
    "\n",
    "Thistory1 = zeros((Nplates, Nx), float)\n",
    "#Thistory2 = zeros((Nrows, Nx2), float)"
   ]
  },
  {
   "cell_type": "code",
   "execution_count": 7,
   "metadata": {
    "collapsed": false
   },
   "outputs": [
    {
     "data": {
      "text/plain": [
       "0.15627511343545616"
      ]
     },
     "execution_count": 7,
     "metadata": {},
     "output_type": "execute_result"
    }
   ],
   "source": [
    "n1"
   ]
  },
  {
   "cell_type": "code",
   "execution_count": 8,
   "metadata": {
    "collapsed": true
   },
   "outputs": [],
   "source": [
    "def makegrid(Lx, Ly, Delta):\n",
    "    \"\"\"This function makes a x and y grid with given lengths and a set change increment.\n",
    "        \n",
    "    Args:\n",
    "        Lx (float): length of the x side of the array\n",
    "        Ly (float): length of the y side of the array\n",
    "        Delta (float): increment dividing the length into sections\n",
    "    Returns:\n",
    "        float: A matrix of x values\n",
    "        float: A matrix of y values\n",
    "    \"\"\"\n",
    "    #create Zlist\n",
    "    xlist = arange(0, Lx, Delta)\n",
    "    ylist = arange(0, Ly, Delta)\n",
    "    xgrid, ygrid = meshgrid(xlist, ylist)\n",
    "    #mesh grid with Zlist\n",
    "    return xgrid, ygrid, xlist, ylist#return Zgrid"
   ]
  },
  {
   "cell_type": "code",
   "execution_count": 9,
   "metadata": {
    "collapsed": true
   },
   "outputs": [],
   "source": [
    "def boundcond(Tbound, Tplate, fixed, Nx, Ny):\n",
    "    \"\"\"This function calculates the voltage bound conditions for certain charge configurations.\n",
    "        \n",
    "    Args:\n",
    "        Vbound (float): Voltage on the boundry\n",
    "        Vnum (float): matirx of voltages\n",
    "        fixed (float): matrix boolean variables setting boundaries on an array\n",
    "        Nx (float): number of indices on the x side of the matrix\n",
    "        Ny (float): number of indices on the y side of the matrix\n",
    "    Returns:\n",
    "        float: A matrix of voltages with boundries in place\n",
    "        float: A fixed matrix setting boundries to True\n",
    "    \"\"\"\n",
    "    \n",
    "    for i in range(Nx):\n",
    "        #Bottom row\n",
    "        #Tplate[-1, i] = Vbound       Already set to zero\n",
    "        fixed[-1, i] = True\n",
    "        #Top row\n",
    "        #Tplate[0, i] = Vbound        Already set to zero\n",
    "        fixed[0, i] = True\n",
    "        \n",
    "        #add in a z indice\n",
    "    \n",
    "    for i in range(Ny):\n",
    "        #left side\n",
    "        fixed[i, 0] = True\n",
    "        #Right side\n",
    "        fixed[i, -1] = True\n",
    "        \n",
    "        #add in a z indice\n",
    "        \n",
    "    # set boundry conditions for z components of matrix\n",
    "    \n",
    "    return Tplate, fixed"
   ]
  },
  {
   "cell_type": "code",
   "execution_count": 10,
   "metadata": {
    "collapsed": false
   },
   "outputs": [],
   "source": [
    "def platecond(T0, Tplate, fixed, Ny):\n",
    "    \"\"\"This function calculates the voltage conditions of certain charge configurations.\n",
    "        \n",
    "    Args:\n",
    "        T0 (float): Voltage on the charge configuration\n",
    "        Vnum (float): matirx of voltages\n",
    "        fixed (float): matrix boolean variables setting boundaries on an array\n",
    "        Ny (float): number of indices on the y side of the matrix\n",
    "    Returns:\n",
    "        float: A matrix of voltages with the charge configurations in place\n",
    "        float: A fixed matrix setting the areas where the charge configurations are to True\n",
    "    \"\"\"\n",
    "    \n",
    "    for i in range(Ny):\n",
    "        #if i == 2:\n",
    "            #for n in range(3,7):\n",
    "                #add in z range\n",
    "                    #Tplate[n,i] = -T0\n",
    "                    #fixed[n,i] = True\n",
    "                    #add in z indice\n",
    "        if i >=9 and i <=11:\n",
    "            for n in range(10,20):\n",
    "                #add in z range\n",
    "                    Tplate[n,i] = T0\n",
    "                    fixed[n,i] = True  \n",
    "                    #add in z indice\n",
    "        #else:\n",
    "            #for n in range(Nx):\n",
    "                #fixed[n,i] = False\n",
    "                \n",
    "    for i in range(Nx):\n",
    "        #Bottom row\n",
    "        #Tplate[-1, i] = Vbound       Already set to zero\n",
    "        fixed[-1, i] = True\n",
    "        #Top row\n",
    "        #Tplate[0, i] = Vbound        Already set to zero\n",
    "        fixed[0, i] = True\n",
    "        \n",
    "        #add in a z indice\n",
    "    \n",
    "    for i in range(Ny):\n",
    "        #left side\n",
    "        fixed[i, 0] = True\n",
    "        #Right side\n",
    "        fixed[i, -1] = True\n",
    "        \n",
    "        #add in a z indice\n",
    "        \n",
    "    # set boundry conditions for z components of matrix\n",
    "    \n",
    "    return Tplate, fixed"
   ]
  },
  {
   "cell_type": "markdown",
   "metadata": {},
   "source": [
    "# Simple Method"
   ]
  },
  {
   "cell_type": "code",
   "execution_count": 11,
   "metadata": {
    "collapsed": true
   },
   "outputs": [],
   "source": [
    "def nextstep(Tplate, fixed, Ny, Nx):\n",
    "    \"\"\"This function calculates the next matrix of voltages.\n",
    "        \n",
    "    Args:\n",
    "        Vnum (float): matirx of voltages\n",
    "        fixed (float): matrix boolean variables setting boundaries on an array\n",
    "        Nx (float): number of indices on the x side of the matrix\n",
    "        Ny (float): number of indices on the y side of the matrix\n",
    "    Returns:\n",
    "        float: A matrix of the next set of voltages\n",
    "    \"\"\"\n",
    "    \n",
    "    Tplatenext = zeros((Ny, Nx), float)\n",
    "    #add in z indice\n",
    "    for j in range(Ny):\n",
    "        for i in range(Nx):\n",
    "            #forloop for the z range\n",
    "            if fixed[i,j] == False:\n",
    "                Tplatenext[i, j] = Tplate[i,j] + n1 * ((Tplate[i + 1, j] + Tplate[i - 1, j] - 2 * Tplate[i,j]) + (Tplate[i, j + 1] + Tplate[i, j - 1] - 2 * Tplate[i,j]))\n",
    "                #add in z indice\n",
    "            if fixed[i,j] == True:\n",
    "                Tplatenext[i, j] = Tplate[i,j]\n",
    "                #add in z indice\n",
    "    return Tplatenext"
   ]
  },
  {
   "cell_type": "code",
   "execution_count": 13,
   "metadata": {
    "collapsed": false
   },
   "outputs": [
    {
     "name": "stdout",
     "output_type": "stream",
     "text": [
      "240 2.4099999999999926\n",
      "480 4.809999999999942\n",
      "720 7.209999999999891\n",
      "960 9.60999999999984\n",
      "1200 12.009999999999788\n"
     ]
    },
    {
     "ename": "KeyboardInterrupt",
     "evalue": "",
     "output_type": "error",
     "traceback": [
      "\u001b[0;31m---------------------------------------------------------------------------\u001b[0m",
      "\u001b[0;31mKeyboardInterrupt\u001b[0m                         Traceback (most recent call last)",
      "\u001b[0;32m<ipython-input-13-0934f03206e7>\u001b[0m in \u001b[0;36m<module>\u001b[0;34m()\u001b[0m\n\u001b[1;32m     21\u001b[0m \u001b[0;34m\u001b[0m\u001b[0m\n\u001b[1;32m     22\u001b[0m     \u001b[0;31m#pass over entire matrix, resetting values according to the algorithm.\u001b[0m\u001b[0;34m\u001b[0m\u001b[0;34m\u001b[0m\u001b[0m\n\u001b[0;32m---> 23\u001b[0;31m     \u001b[0mTnumnext1\u001b[0m \u001b[0;34m=\u001b[0m \u001b[0mnextstep\u001b[0m\u001b[0;34m(\u001b[0m\u001b[0mTprev\u001b[0m\u001b[0;34m,\u001b[0m \u001b[0mfixed\u001b[0m\u001b[0;34m,\u001b[0m \u001b[0mNy\u001b[0m\u001b[0;34m,\u001b[0m \u001b[0mNx\u001b[0m\u001b[0;34m)\u001b[0m\u001b[0;34m\u001b[0m\u001b[0m\n\u001b[0m\u001b[1;32m     24\u001b[0m     \u001b[0mTnum1\u001b[0m \u001b[0;34m=\u001b[0m \u001b[0mTnumnext1\u001b[0m\u001b[0;34m\u001b[0m\u001b[0m\n\u001b[1;32m     25\u001b[0m \u001b[0;34m\u001b[0m\u001b[0m\n",
      "\u001b[0;32m<ipython-input-11-6884938eab9a>\u001b[0m in \u001b[0;36mnextstep\u001b[0;34m(Tplate, fixed, Ny, Nx)\u001b[0m\n\u001b[1;32m     17\u001b[0m             \u001b[0;31m#forloop for the z range\u001b[0m\u001b[0;34m\u001b[0m\u001b[0;34m\u001b[0m\u001b[0m\n\u001b[1;32m     18\u001b[0m             \u001b[0;32mif\u001b[0m \u001b[0mfixed\u001b[0m\u001b[0;34m[\u001b[0m\u001b[0mi\u001b[0m\u001b[0;34m,\u001b[0m\u001b[0mj\u001b[0m\u001b[0;34m]\u001b[0m \u001b[0;34m==\u001b[0m \u001b[0;32mFalse\u001b[0m\u001b[0;34m:\u001b[0m\u001b[0;34m\u001b[0m\u001b[0m\n\u001b[0;32m---> 19\u001b[0;31m                 \u001b[0mTplatenext\u001b[0m\u001b[0;34m[\u001b[0m\u001b[0mi\u001b[0m\u001b[0;34m,\u001b[0m \u001b[0mj\u001b[0m\u001b[0;34m]\u001b[0m \u001b[0;34m=\u001b[0m \u001b[0mTplate\u001b[0m\u001b[0;34m[\u001b[0m\u001b[0mi\u001b[0m\u001b[0;34m,\u001b[0m\u001b[0mj\u001b[0m\u001b[0;34m]\u001b[0m \u001b[0;34m+\u001b[0m \u001b[0mn1\u001b[0m \u001b[0;34m*\u001b[0m \u001b[0;34m(\u001b[0m\u001b[0;34m(\u001b[0m\u001b[0mTplate\u001b[0m\u001b[0;34m[\u001b[0m\u001b[0mi\u001b[0m \u001b[0;34m+\u001b[0m \u001b[0;36m1\u001b[0m\u001b[0;34m,\u001b[0m \u001b[0mj\u001b[0m\u001b[0;34m]\u001b[0m \u001b[0;34m+\u001b[0m \u001b[0mTplate\u001b[0m\u001b[0;34m[\u001b[0m\u001b[0mi\u001b[0m \u001b[0;34m-\u001b[0m \u001b[0;36m1\u001b[0m\u001b[0;34m,\u001b[0m \u001b[0mj\u001b[0m\u001b[0;34m]\u001b[0m \u001b[0;34m-\u001b[0m \u001b[0;36m2\u001b[0m \u001b[0;34m*\u001b[0m \u001b[0mTplate\u001b[0m\u001b[0;34m[\u001b[0m\u001b[0mi\u001b[0m\u001b[0;34m,\u001b[0m\u001b[0mj\u001b[0m\u001b[0;34m]\u001b[0m\u001b[0;34m)\u001b[0m \u001b[0;34m+\u001b[0m \u001b[0;34m(\u001b[0m\u001b[0mTplate\u001b[0m\u001b[0;34m[\u001b[0m\u001b[0mi\u001b[0m\u001b[0;34m,\u001b[0m \u001b[0mj\u001b[0m \u001b[0;34m+\u001b[0m \u001b[0;36m1\u001b[0m\u001b[0;34m]\u001b[0m \u001b[0;34m+\u001b[0m \u001b[0mTplate\u001b[0m\u001b[0;34m[\u001b[0m\u001b[0mi\u001b[0m\u001b[0;34m,\u001b[0m \u001b[0mj\u001b[0m \u001b[0;34m-\u001b[0m \u001b[0;36m1\u001b[0m\u001b[0;34m]\u001b[0m \u001b[0;34m-\u001b[0m \u001b[0;36m2\u001b[0m \u001b[0;34m*\u001b[0m \u001b[0mTplate\u001b[0m\u001b[0;34m[\u001b[0m\u001b[0mi\u001b[0m\u001b[0;34m,\u001b[0m\u001b[0mj\u001b[0m\u001b[0;34m]\u001b[0m\u001b[0;34m)\u001b[0m\u001b[0;34m)\u001b[0m\u001b[0;34m\u001b[0m\u001b[0m\n\u001b[0m\u001b[1;32m     20\u001b[0m                 \u001b[0;31m#add in z indice\u001b[0m\u001b[0;34m\u001b[0m\u001b[0;34m\u001b[0m\u001b[0m\n\u001b[1;32m     21\u001b[0m             \u001b[0;32mif\u001b[0m \u001b[0mfixed\u001b[0m\u001b[0;34m[\u001b[0m\u001b[0mi\u001b[0m\u001b[0;34m,\u001b[0m\u001b[0mj\u001b[0m\u001b[0;34m]\u001b[0m \u001b[0;34m==\u001b[0m \u001b[0;32mTrue\u001b[0m\u001b[0;34m:\u001b[0m\u001b[0;34m\u001b[0m\u001b[0m\n",
      "\u001b[0;31mKeyboardInterrupt\u001b[0m: "
     ]
    }
   ],
   "source": [
    "biggestchange = 1\n",
    "count = 0\n",
    "currentplate = 1 #index for the current of the history matrix that needs to be filled\n",
    "currenttime = 0\n",
    "\n",
    "Tnum1 = zeros((Ny, Nx), float)\n",
    "fixed = zeros((Ny, Nx), bool)\n",
    "#Tnum1 = ones(Nx1, float)\n",
    "#fixed = zeros(Nx1, bool)   \n",
    "#initialize boundary conditions\n",
    "\n",
    "#Tnum1, fixed = boundcond(Tbound, Tnum1, fixed, Nx, Ny)\n",
    "Tnum1, fixed = platecond(T0, Tnum1, fixed, Ny)\n",
    "\n",
    "Thistory1 = []\n",
    "Thistory1.append(Tnum1)\n",
    "\n",
    "currenttime += dt\n",
    "while currenttime <= 720:#biggestchange > .01:\n",
    "    Tprev = Tnum1.copy()\n",
    "    \n",
    "    #pass over entire matrix, resetting values according to the algorithm.\n",
    "    Tnumnext1 = nextstep(Tprev, fixed, Ny, Nx)\n",
    "    Tnum1 = Tnumnext1\n",
    "    \n",
    "    biggestchange = amax(abs(Tprev - Tnum1)) / T0\n",
    "    \n",
    "    currenttime += dt\n",
    "    count += 1\n",
    "    \n",
    "    #store Tnum into the history matrix\n",
    "    if count % 240 == 0:\n",
    "        Thistory1.append(Tnum1)\n",
    "        tvect[currentplate] = currenttime\n",
    "        \n",
    "        currentplate += 1\n",
    "        if currentplate == Nplates:\n",
    "            break\n",
    "    \n",
    "        print(count, currenttime)\n",
    "    #if count > 100:\n",
    "        #break"
   ]
  },
  {
   "cell_type": "code",
   "execution_count": 16,
   "metadata": {
    "collapsed": false
   },
   "outputs": [
    {
     "data": {
      "text/plain": [
       "<matplotlib.text.Text at 0x10d6d8fd0>"
      ]
     },
     "execution_count": 16,
     "metadata": {},
     "output_type": "execute_result"
    },
    {
     "data": {
      "image/png": "[encoded data removed]",
      "text/plain": [
       "<matplotlib.figure.Figure at 0x10d465b70>"
      ]
     },
     "metadata": {},
     "output_type": "display_data"
    }
   ],
   "source": [
    "xgrid, ygrid, xlist, ylist = makegrid(Lx, Ly, Delta)\n",
    "#v = linspace(0,10,10, endpoint=True)\n",
    "\n",
    "fig, ax1 = plt.subplots(1, 1, figsize = plt.figaspect(1))\n",
    "tempplot = contourf(xgrid, ygrid, Thistory1[4], 50, cmap = cm.coolwarm)\n",
    "\n",
    "\n",
    "tempbar = colorbar(tempplot)\n",
    "tempbar.set_label('Temperature Range (Celsius)')\n",
    "clim(0,100)\n",
    "\n",
    "ax1.set_xlabel('x', fontsize=20)\n",
    "ax1.set_ylabel('y', fontsize=20)\n",
    "ax1.set_title('2-D Heat Flow Contour Plot', fontsize=20)"
   ]
  },
  {
   "cell_type": "code",
   "execution_count": 24,
   "metadata": {
    "collapsed": false
   },
   "outputs": [
    {
     "data": {
      "text/plain": [
       "<matplotlib.colorbar.Colorbar at 0x114e5e9b0>"
      ]
     },
     "execution_count": 24,
     "metadata": {},
     "output_type": "execute_result"
    },
    {
     "data": {
      "image/png": "[encoded data removed]",
      "text/plain": [
       "<matplotlib.figure.Figure at 0x111f155f8>"
      ]
     },
     "metadata": {},
     "output_type": "display_data"
    }
   ],
   "source": [
    "xgrid, ygrid, xlist, ylist = makegrid(Lx, Ly, Delta)\n",
    "#v = linspace(0,10,10, endpoint=True)\n",
    "fig, (ax1, ax2, ax3, ax4) = plt.subplots(4, 1, figsize = plt.figaspect(4))\n",
    "\n",
    "plot1 = ax1.contourf(xgrid, ygrid, Thistory1[0], 50, cmap = cm.coolwarm)\n",
    "plot2 = ax2.contourf(xgrid, ygrid, Thistory1[1], 50, cmap = cm.coolwarm)\n",
    "plot3 = ax3.contourf(xgrid, ygrid, Thistory1[2], 50, cmap = cm.coolwarm)\n",
    "plot4 = ax4.contourf(xgrid, ygrid, Thistory1[3], 50, cmap = cm.coolwarm)\n",
    "\n",
    "#ax1.set_xlabel('x', fontsize=20)\n",
    "#ax1.set_ylabel('y', fontsize=20)\n",
    "ax1.set_title('2-D Heat Flow Contour Plot (t = 0)', fontsize=20)\n",
    "plt.colorbar(plot1, ax=ax1)\n",
    "\n",
    "#ax2.set_xlabel('x', fontsize=20)\n",
    "#ax2.set_ylabel('y', fontsize=20)\n",
    "ax2.set_title('2-D Heat Flow Contour Plot (t = 1min)', fontsize=20)\n",
    "plt.colorbar(plot2, ax=ax2)\n",
    "\n",
    "#ax3.set_xlabel('x', fontsize=20)\n",
    "#ax3.set_ylabel('y', fontsize=20)\n",
    "ax3.set_title('2-D Heat Flow Contour Plot (t = 2min)', fontsize=20)\n",
    "plt.colorbar(plot3, ax=ax3)\n",
    "\n",
    "#ax4.set_xlabel('x', fontsize=20)\n",
    "#ax4.set_ylabel('y', fontsize=20)\n",
    "ax4.set_title('2-D Heat Flow Contour Plot (t = 3min)', fontsize=20)\n",
    "plt.colorbar(plot4, ax=ax4)"
   ]
  },
  {
   "cell_type": "markdown",
   "metadata": {},
   "source": [
    "# Interpolation Code"
   ]
  },
  {
   "cell_type": "code",
   "execution_count": 71,
   "metadata": {
    "collapsed": false
   },
   "outputs": [
    {
     "data": {
      "text/plain": [
       "<matplotlib.text.Text at 0x10fda6c88>"
      ]
     },
     "execution_count": 71,
     "metadata": {},
     "output_type": "execute_result"
    },
    {
     "data": {
      "image/png": "[encoded data removed]",
      "text/plain": [
       "<matplotlib.figure.Figure at 0x10ef8d320>"
      ]
     },
     "metadata": {},
     "output_type": "display_data"
    }
   ],
   "source": [
    "xsensors = [.017, .047, .077, .107, .137, .167, .197, .227, .257, .287]\n",
    "ysensors = [.017, .047, .077, .107, .137, .167, .197, .227, .257, .287]\n",
    "xsensorgrid, ysensorgrid = meshgrid(xsensors, ysensors)\n",
    "\n",
    "xgrid, ygrid, xlist, ylist = makegrid(Lx, Ly, Delta)\n",
    "\n",
    "Interp_Spline = RectBivariateSpline(xlist, ylist, Thistory1[3])\n",
    "sensortemps = Interp_Spline(xsensors, ysensors)\n",
    "\n",
    "\n",
    "fig, ax1 = plt.subplots(1, 1, figsize = plt.figaspect(1))\n",
    "tempplot = contourf(xsensorgrid, ysensorgrid, sensortemps, 50, cmap = cm.coolwarm)\n",
    "\n",
    "tempbar = colorbar(tempplot)\n",
    "tempbar.set_label('Temperature Range (Celsius)')\n",
    "clim(0,100)\n",
    "ax1.set_xlabel('x', fontsize=20)\n",
    "ax1.set_ylabel('y', fontsize=20)\n",
    "ax1.set_title('2-D Heat Flow Contour Plot', fontsize=20)"
   ]
  },
  {
   "cell_type": "code",
   "execution_count": 263,
   "metadata": {
    "collapsed": false
   },
   "outputs": [
    {
     "data": {
      "text/plain": [
       "array([[ 53.85933859]])"
      ]
     },
     "execution_count": 263,
     "metadata": {},
     "output_type": "execute_result"
    }
   ],
   "source": [
    "Interp_Spline(.10,.15)"
   ]
  },
  {
   "cell_type": "code",
   "execution_count": 264,
   "metadata": {
    "collapsed": false,
    "scrolled": true
   },
   "outputs": [
    {
     "data": {
      "text/plain": [
       "array([[  2.30417604e+00,   6.16735788e+00,   9.19569131e+00,\n",
       "          1.04417107e+01,   9.64738199e+00,   7.70545054e+00,\n",
       "          5.54104046e+00,   3.55074669e+00,   1.78544361e+00,\n",
       "          1.59655036e-01],\n",
       "       [  6.52635027e+00,   1.77908471e+01,   2.72851429e+01,\n",
       "          3.11044166e+01,   2.77738305e+01,   2.14310142e+01,\n",
       "          1.51023580e+01,   9.58076659e+00,   4.79568511e+00,\n",
       "          4.28223809e-01],\n",
       "       [  1.08571159e+01,   3.07010142e+01,   5.12226538e+01,\n",
       "          6.04866589e+01,   4.84218174e+01,   3.48170602e+01,\n",
       "          2.37584981e+01,   1.48520447e+01,   7.38571962e+00,\n",
       "          6.58148414e-01],\n",
       "       [  1.44140923e+01,   4.19225565e+01,   7.72147232e+01,\n",
       "          1.02232213e+02,   6.71003466e+01,   4.54084735e+01,\n",
       "          3.02564408e+01,   1.86978391e+01,   9.24803598e+00,\n",
       "          8.22667552e-01],\n",
       "       [  1.60864255e+01,   4.66284009e+01,   8.23890832e+01,\n",
       "          1.00640251e+02,   7.34379468e+01,   5.02399893e+01,\n",
       "          3.33144716e+01,   2.04982488e+01,   1.01139739e+01,\n",
       "          8.98955920e-01],\n",
       "       [  1.55759934e+01,   4.52635692e+01,   8.12299285e+01,\n",
       "          1.00880453e+02,   7.17199391e+01,   4.87769981e+01,\n",
       "          3.23703378e+01,   1.99416339e+01,   9.84652800e+00,\n",
       "          8.75406508e-01],\n",
       "       [  1.29356202e+01,   3.73090479e+01,   6.71328113e+01,\n",
       "          8.68579627e+01,   5.96047749e+01,   4.10499639e+01,\n",
       "          2.75858045e+01,   1.71246849e+01,   8.48870361e+00,\n",
       "          7.55666694e-01],\n",
       "       [  8.85725001e+00,   2.45785143e+01,   3.90370238e+01,\n",
       "          4.49087660e+01,   3.84776191e+01,   2.87124049e+01,\n",
       "          1.98996383e+01,   1.25266592e+01,   6.24868178e+00,\n",
       "          5.57367697e-01],\n",
       "       [  4.52417533e+00,   1.21989239e+01,   1.83819466e+01,\n",
       "          2.08951955e+01,   1.90538975e+01,   1.50066104e+01,\n",
       "          1.06984902e+01,   6.82561836e+00,   3.42531110e+00,\n",
       "          3.06101415e-01],\n",
       "       [  4.04752751e-01,   1.08076357e+00,   1.60641459e+00,\n",
       "          1.82376914e+00,   1.69198894e+00,   1.35776369e+00,\n",
       "          9.79409271e-01,   6.28641027e-01,   3.16341796e-01,\n",
       "          2.82940841e-02]])"
      ]
     },
     "execution_count": 264,
     "metadata": {},
     "output_type": "execute_result"
    }
   ],
   "source": [
    "sensortemps"
   ]
  },
  {
   "cell_type": "markdown",
   "metadata": {},
   "source": [
    "# Exporting the interpolation data and its corresponding time to a csv file\n"
   ]
  },
  {
   "cell_type": "code",
   "execution_count": 46,
   "metadata": {
    "collapsed": false
   },
   "outputs": [
    {
     "name": "stdout",
     "output_type": "stream",
     "text": [
      "Name of File? SimulationTemps-0.csv\n"
     ]
    }
   ],
   "source": [
    "import csv\n",
    "\n",
    "filename = input('Name of File? ') #needs to be csv, ie. filename.csv\n",
    "\n",
    "count = 0\n",
    "\n",
    "for item in Thistory1:\n",
    "    csvdata =[]\n",
    "    Interp_Spline = RectBivariateSpline(xlist, ylist, Thistory1[count])\n",
    "    sensortemps = Interp_Spline(xsensors, ysensors)\n",
    "    csvdata.append(tvect[count])\n",
    "    csvdata.append(sensortemps)\n",
    "    count += 1\n",
    "    \n",
    "    with open(filename, 'a') as csvfile:\n",
    "        writer = csv.writer(csvfile)\n",
    "        writer.writerow(csvdata)\n"
   ]
  },
  {
   "cell_type": "code",
   "execution_count": 47,
   "metadata": {
    "collapsed": false
   },
   "outputs": [
    {
     "data": {
      "text/plain": [
       "[720.25, array([[  2.30456309e+00,   6.16852297e+00,   9.19795260e+00,\n",
       "           1.04456224e+01,   9.65336231e+00,   7.71314483e+00,\n",
       "           5.54920631e+00,   3.55769229e+00,   1.78959975e+00,\n",
       "           1.60051718e-01],\n",
       "        [  6.52720734e+00,   1.77933846e+01,   2.72900536e+01,\n",
       "           3.11133824e+01,   2.77886332e+01,   2.14508777e+01,\n",
       "           1.51237940e+01,   9.59911760e+00,   4.80669380e+00,\n",
       "           4.29275303e-01],\n",
       "        [  1.08580132e+01,   3.07034739e+01,   5.12268674e+01,\n",
       "           6.04951558e+01,   4.84410915e+01,   3.48457115e+01,\n",
       "           2.37903655e+01,   1.48796133e+01,   7.40232316e+00,\n",
       "           6.59736105e-01],\n",
       "        [  1.44147586e+01,   4.19240660e+01,   7.72158828e+01,\n",
       "           1.02231206e+02,   6.71199248e+01,   4.54421311e+01,\n",
       "           3.02950543e+01,   1.87315818e+01,   9.26843376e+00,\n",
       "           8.24620156e-01],\n",
       "        [  1.60869257e+01,   4.66293844e+01,   8.23895954e+01,\n",
       "           1.00639630e+02,   7.34577569e+01,   5.02756659e+01,\n",
       "           3.33559977e+01,   2.05347226e+01,   1.01360654e+01,\n",
       "           9.01071838e-01],\n",
       "        [  1.55765476e+01,   4.52647116e+01,   8.12305871e+01,\n",
       "           1.00879782e+02,   7.17396394e+01,   4.88120654e+01,\n",
       "           3.24109790e+01,   1.99772738e+01,   9.86810120e+00,\n",
       "           8.77472422e-01],\n",
       "        [  1.29364052e+01,   3.73110105e+01,   6.71352339e+01,\n",
       "           8.68612044e+01,   5.96244307e+01,   4.10817094e+01,\n",
       "           2.76217479e+01,   1.71559592e+01,   8.50757908e+00,\n",
       "           7.57472741e-01],\n",
       "        [  8.85818091e+00,   2.45811930e+01,   3.90420557e+01,\n",
       "           4.49184837e+01,   3.84954545e+01,   2.87374455e+01,\n",
       "           1.99270662e+01,   1.25502651e+01,   6.26287141e+00,\n",
       "           5.58723811e-01],\n",
       "        [  4.52486110e+00,   1.22009773e+01,   1.83859374e+01,\n",
       "           2.09022480e+01,   1.90649919e+01,   1.50211237e+01,\n",
       "           1.07140008e+01,   6.83884779e+00,   3.43323603e+00,\n",
       "           3.06858049e-01],\n",
       "        [  4.04823279e-01,   1.08097615e+00,   1.60682659e+00,\n",
       "           1.82447671e+00,   1.69306099e+00,   1.35913540e+00,\n",
       "           9.80861460e-01,   6.29874960e-01,   3.17079864e-01,\n",
       "           2.83645205e-02]])]"
      ]
     },
     "execution_count": 47,
     "metadata": {},
     "output_type": "execute_result"
    }
   ],
   "source": [
    "csvdata"
   ]
  },
  {
   "cell_type": "code",
   "execution_count": 83,
   "metadata": {
    "collapsed": false
   },
   "outputs": [
    {
     "name": "stdout",
     "output_type": "stream",
     "text": [
      "Name of File? SimulationTemps-0.csv\n"
     ]
    }
   ],
   "source": [
    "filename = input('Name of File? ') #needs to be csv, ie. filename.csv\n",
    "file_object  = open(filename, 'w')\n",
    "\n",
    "count = 0\n",
    "\n",
    "for item in Thistory1:\n",
    "    csvdata =[]\n",
    "    templist = []\n",
    "    Interp_Spline = RectBivariateSpline(xlist, ylist, Thistory1[count])\n",
    "    sensortemps = Interp_Spline(xsensors, ysensors)\n",
    "    #csvdata.append(tvect[count])\n",
    "    #csvdata.append(sensortemps)\n",
    "    time = str(tvect[count])\n",
    "    file_object.write(time + '\\n')\n",
    "    \n",
    "    for row in sensortemps:\n",
    "        for num in row:\n",
    "            temp = str(num)\n",
    "            file_object.write(temp + ' ')\n",
    "        \n",
    "    count += 1\n",
    "    file_object.write('\\n')\n",
    "    \n",
    "    #file_object.write(time)\n",
    "    #file_object.write(sensortemps)\n",
    "    \n",
    "file_object.close()"
   ]
  },
  {
   "cell_type": "code",
   "execution_count": 82,
   "metadata": {
    "collapsed": false
   },
   "outputs": [
    {
     "data": {
      "text/plain": [
       "'0.028364520482'"
      ]
     },
     "execution_count": 82,
     "metadata": {},
     "output_type": "execute_result"
    }
   ],
   "source": [
    "temp\n"
   ]
  },
  {
   "cell_type": "code",
   "execution_count": null,
   "metadata": {
    "collapsed": true
   },
   "outputs": [],
   "source": []
  }
 ],
 "metadata": {
  "kernelspec": {
   "display_name": "Python 3",
   "language": "python",
   "name": "python3"
  },
  "language_info": {
   "codemirror_mode": {
    "name": "ipython",
    "version": 3
   },
   "file_extension": ".py",
   "mimetype": "text/x-python",
   "name": "python",
   "nbconvert_exporter": "python",
   "pygments_lexer": "ipython3",
   "version": "3.6.0"
  }
 },
 "nbformat": 4,
 "nbformat_minor": 2
}
